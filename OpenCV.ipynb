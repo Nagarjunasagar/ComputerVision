{
 "cells": [
  {
   "cell_type": "code",
   "execution_count": 1,
   "id": "73709223",
   "metadata": {},
   "outputs": [],
   "source": [
    "import cv2"
   ]
  },
  {
   "cell_type": "code",
   "execution_count": 19,
   "id": "1e77ced8",
   "metadata": {},
   "outputs": [],
   "source": [
    "input = cv2.imread('C:\\\\Users\\\\NAGARJUNA\\\\computer_vision_projects\\\\Billgates.jfif') # Loading an image\n",
    "cv2.imshow('Play',input) # Displaying image\n",
    "cv2.waitKey() #Waits for specified number of seconds specified before closing\n",
    "cv2.destroyAllWindows() #Closing all open Windows"
   ]
  },
  {
   "cell_type": "code",
   "execution_count": 20,
   "id": "8bfae487",
   "metadata": {},
   "outputs": [
    {
     "name": "stdout",
     "output_type": "stream",
     "text": [
      "(1056, 1080, 3)\n"
     ]
    }
   ],
   "source": [
    "import numpy as np\n",
    "print(input.shape)"
   ]
  },
  {
   "cell_type": "code",
   "execution_count": 21,
   "id": "5ebb05d0",
   "metadata": {},
   "outputs": [
    {
     "name": "stdout",
     "output_type": "stream",
     "text": [
      "Height of Image: 1056 pixels\n",
      "Width of Image:  1080 pixels\n"
     ]
    }
   ],
   "source": [
    "#print each dimension of the image\n",
    "print('Height of Image:', int(input.shape[0]), 'pixels')\n",
    "print('Width of Image: ', int(input.shape[1]), 'pixels')"
   ]
  },
  {
   "cell_type": "code",
   "execution_count": 22,
   "id": "33a8439b",
   "metadata": {},
   "outputs": [
    {
     "data": {
      "text/plain": [
       "True"
      ]
     },
     "execution_count": 22,
     "metadata": {},
     "output_type": "execute_result"
    }
   ],
   "source": [
    "#use 'imwrite' specificing the file name and the image to be saved\n",
    "cv2.imwrite('output.jpg', input)\n",
    "cv2.imwrite('output.png', input)"
   ]
  },
  {
   "cell_type": "code",
   "execution_count": null,
   "id": "dd790091",
   "metadata": {},
   "outputs": [],
   "source": []
  }
 ],
 "metadata": {
  "kernelspec": {
   "display_name": "Python 3 (ipykernel)",
   "language": "python",
   "name": "python3"
  },
  "language_info": {
   "codemirror_mode": {
    "name": "ipython",
    "version": 3
   },
   "file_extension": ".py",
   "mimetype": "text/x-python",
   "name": "python",
   "nbconvert_exporter": "python",
   "pygments_lexer": "ipython3",
   "version": "3.9.7"
  }
 },
 "nbformat": 4,
 "nbformat_minor": 5
}
